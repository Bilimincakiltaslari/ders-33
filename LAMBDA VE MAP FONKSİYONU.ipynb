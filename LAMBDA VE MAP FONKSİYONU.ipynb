{
 "cells": [
  {
   "cell_type": "code",
   "execution_count": 2,
   "metadata": {},
   "outputs": [
    {
     "name": "stdout",
     "output_type": "stream",
     "text": [
      "10\n"
     ]
    }
   ],
   "source": [
    "def ikikatı(sayi):\n",
    "   return sayi*2\n",
    "print(ikikatı(5))"
   ]
  },
  {
   "cell_type": "code",
   "execution_count": 3,
   "metadata": {},
   "outputs": [
    {
     "name": "stdout",
     "output_type": "stream",
     "text": [
      "10\n"
     ]
    }
   ],
   "source": [
    "ikikatı = lambda sayi:2*sayi\n",
    "print(ikikatı(5))"
   ]
  },
  {
   "cell_type": "code",
   "execution_count": 12,
   "metadata": {},
   "outputs": [],
   "source": [
    "# Şimdi aynı fonksiyonu lambda fonksiyonu yazalım bunun öncesinde\n",
    "# genel bir lamda kullanım taslağını görelim.\n",
    "# FonksiyonAdi = lambda paremetre1,paremetre2: dönüş değeri\n",
    "# Hemen girilen sayının iki katını alan lambda fonksiyonunu yazalım."
   ]
  },
  {
   "cell_type": "code",
   "execution_count": 1,
   "metadata": {},
   "outputs": [
    {
     "name": "stdout",
     "output_type": "stream",
     "text": [
      "125\n"
     ]
    }
   ],
   "source": [
    "küpü = lambda x:x**3\n",
    "print(küpü(5))\n",
    "\n",
    "#Gördüğünüz gibi çok basit kullanımı var."
   ]
  },
  {
   "cell_type": "code",
   "execution_count": null,
   "metadata": {},
   "outputs": [],
   "source": [
    "5*5*5"
   ]
  },
  {
   "cell_type": "code",
   "execution_count": null,
   "metadata": {},
   "outputs": [],
   "source": [
    "liste1=[] liste2=[]"
   ]
  },
  {
   "cell_type": "code",
   "execution_count": 9,
   "metadata": {},
   "outputs": [
    {
     "name": "stdout",
     "output_type": "stream",
     "text": [
      "[2, 4, 6, 8]\n"
     ]
    }
   ],
   "source": [
    "def ikikatı(liste1):      # ikikatı adında bir fonksiyon açtık liste1 deki elemanlara sırasıyla\n",
    "                          # ne yapacağımızı aşağıda öğretmiş olacağız\n",
    "    liste2=[]             # liste2 ye liste1 elemanlarını öğretilen şekilde sırasıyla eklemek için,\n",
    "    for eleman in liste1: # boş bir liste2 tanımlayıp for döngüsü ile liste 1 den gelen elemanların\n",
    "        liste2.append(eleman*2) # iki katını liste2 ye eklemiş olduk.\n",
    "    return liste2               # ilk başta tanımladığımız ikikatı(liste1)'i liste2 ye dönüşürüyor.\n",
    "liste1=[1,2,3,4]                # liste1 i input komutuyla kullanıcıdan da alarak oluşturabilirdik.\n",
    "print(ikikatı(liste1))          # öğretilen şekilde liste 1 deki elemanların iki katını basacak."
   ]
  },
  {
   "cell_type": "code",
   "execution_count": 16,
   "metadata": {},
   "outputs": [
    {
     "name": "stdout",
     "output_type": "stream",
     "text": [
      "[2, 4, 6, 8]\n"
     ]
    }
   ],
   "source": [
    "liste1=[1,2,3,4]  # Yukarıda yazdığımız programı bu şekilde yazmak size daha kolay gelebilir.\n",
    "liste2=[]         # Fakat uzun programlarda birden fazla yerde farklı sayıların iki katını\n",
    "for eleman in liste1: # almamız gerektiğinde her seferinde bu satırları yazmak yerine,\n",
    "    liste2.append(eleman*2) # sadece ikikatı(liste3) başka yerde ikikatı(liste3) dediğimizde\n",
    "print(liste2)               # def fonksiyonu sayesinde yandaki programı her seferinde yazmak\n",
    "                            # zorunda kalmamış oluruz."
   ]
  },
  {
   "cell_type": "code",
   "execution_count": null,
   "metadata": {},
   "outputs": [],
   "source": [
    "# Şimdi list1 adlı listenin tüm elemanlarının iki katını \n",
    "# list2 adlı listeyi list dönüştürmesi ile oluşturalım."
   ]
  },
  {
   "cell_type": "code",
   "execution_count": 6,
   "metadata": {},
   "outputs": [
    {
     "name": "stdout",
     "output_type": "stream",
     "text": [
      "[1, 2, 3, 4]\n",
      "[2, 4, 6, 8]\n"
     ]
    }
   ],
   "source": [
    "list1 = [1,2,3,4]\n",
    "list2 = [i*2 for i in list1]\n",
    "print(list1)\n",
    "print(list2)"
   ]
  },
  {
   "cell_type": "code",
   "execution_count": 4,
   "metadata": {},
   "outputs": [
    {
     "name": "stdout",
     "output_type": "stream",
     "text": [
      "1 bu sayının iki katı 2\n",
      "4 bu sayının iki katı 8\n",
      "9 bu sayının iki katı 18\n",
      "12 bu sayının iki katı 24\n",
      "15 bu sayının iki katı 30\n"
     ]
    }
   ],
   "source": [
    "benimlistem=[1,4,9,12,15]\n",
    "for i in benimlistem:\n",
    "    print(i,\"bu sayının iki katı\",2*i)\n",
    "    "
   ]
  },
  {
   "cell_type": "code",
   "execution_count": null,
   "metadata": {},
   "outputs": [],
   "source": [
    "# Belki şimdi size çok anlamsız veya gereksiz gelebilir ama\n",
    "# bir sonraki dersimiz ele alacağımız gömülü fonksiyonlar da\n",
    "# lambda fonksiyonu ile fonksiyon kullanımının çok daha rahat\n",
    "# olduğunu göreceksiniz. Ayrıca daha ileri ki seviyelerde\n",
    "# Python’nun Pandas vb. kütüphaneleri ile uğraştığınız zaman\n",
    "# bu tür yapıyla sıkça karşılaşacaksınız."
   ]
  },
  {
   "cell_type": "code",
   "execution_count": 23,
   "metadata": {},
   "outputs": [
    {
     "name": "stdout",
     "output_type": "stream",
     "text": [
      "34\n"
     ]
    }
   ],
   "source": [
    "hesapla = lambda a,b: a*2+b*3\n",
    "print(hesapla(5,8))"
   ]
  },
  {
   "cell_type": "code",
   "execution_count": 8,
   "metadata": {},
   "outputs": [
    {
     "data": {
      "text/plain": [
       "[18, 24, 30, 36, 42]"
      ]
     },
     "execution_count": 8,
     "metadata": {},
     "output_type": "execute_result"
    }
   ],
   "source": [
    "# map(fonksiyon,liste,...)\n",
    "hesapla = lambda a: a*6+12\n",
    "list(map(hesapla,[1,2,3,4,5]))"
   ]
  },
  {
   "cell_type": "code",
   "execution_count": 57,
   "metadata": {},
   "outputs": [
    {
     "data": {
      "text/plain": [
       "[1, 4, 9, 16, 25, 36, 49, 64, 81]"
      ]
     },
     "execution_count": 57,
     "metadata": {},
     "output_type": "execute_result"
    }
   ],
   "source": [
    "# map() fonksiyonu parametre olarak aldığı fonksiyona,\n",
    "# parametre olarak aldığı listenin her elemanını sırasıyla\n",
    "# parametre olarak gönderir. Bol parametreli bir cümle oldu.\n",
    "# Anlaşılması için örnek verelim.\n",
    "\n",
    "def kare(sayi):\n",
    "    return sayi*sayi\n",
    "list(map(kare,range(1,10)))\n",
    "    \n",
    "# Sanırım bu örnek ile ne demek istediğimizi anladınız.\n",
    "# Elimizde 1 den 10 kadar olan sayıları barındıran bir\n",
    "# liste bulunuyor. map fonksiyonu bu listenin tüm\n",
    "# elemanlarını tek tek kare fonksiyonuna gönderiyor.\n",
    "# Geriye döndürdüğü değer iste yine aynı şekilde bir liste."
   ]
  },
  {
   "cell_type": "code",
   "execution_count": 33,
   "metadata": {},
   "outputs": [
    {
     "name": "stdout",
     "output_type": "stream",
     "text": [
      "[3, 6, 9, 12]\n"
     ]
    }
   ],
   "source": [
    "liste=[1,2,3,4]\n",
    "print(list(map(lambda x:x*3,liste )))"
   ]
  },
  {
   "cell_type": "code",
   "execution_count": 67,
   "metadata": {},
   "outputs": [
    {
     "name": "stdout",
     "output_type": "stream",
     "text": [
      "[2, 8, 18, 32]\n"
     ]
    }
   ],
   "source": [
    "a=[1,2,3,4]\n",
    "b=[2,4,6,8]\n",
    "print(list(map(lambda x,y:x*y,a,b )))"
   ]
  },
  {
   "cell_type": "code",
   "execution_count": 99,
   "metadata": {},
   "outputs": [
    {
     "name": "stdout",
     "output_type": "stream",
     "text": [
      "[('Yasemin', 'Finalde'), ('Kenan', 'Kaldı'), ('Derya', 'Elemede'), ('Serhat', 'Finalde')]\n"
     ]
    }
   ],
   "source": [
    "puan=[(\"Yasemin\",73),(\"Kenan\",46),(\"Derya\",65),(\"Serhat\",90)]\n",
    "sonuc=lambda dizi:(dizi[0],\n",
    "                   \"Finalde\"  if dizi[1] >70  else (\"Elemede\" if dizi[1]>50 else \"Kaldı\"))\n",
    "print(list(map(sonuc,puan)))"
   ]
  },
  {
   "cell_type": "code",
   "execution_count": null,
   "metadata": {},
   "outputs": [],
   "source": []
  },
  {
   "cell_type": "code",
   "execution_count": 14,
   "metadata": {},
   "outputs": [
    {
     "name": "stdout",
     "output_type": "stream",
     "text": [
      "Başlama sayısı 3\n",
      "Bitiş sayısı 12\n",
      "atlama sayısı 3\n",
      "[3, 6, 9, 12]\n",
      "[9, 36, 81, 144]\n"
     ]
    }
   ],
   "source": [
    "def kareal(liste1):\n",
    "    liste2=[]\n",
    "    for eleman in liste1:\n",
    "        liste2.append(eleman**2)\n",
    "    return liste2\n",
    "bas=int(input(\"Başlama sayısı \"))\n",
    "bit=int(input(\"Bitiş sayısı \"))\n",
    "atl=int(input(\"atlama sayısı \"))\n",
    "liste1=[]\n",
    "for i in range(bas,bit+1,atl):\n",
    "    liste1.append(i)\n",
    "print(liste1)\n",
    "print(kareal(liste1))"
   ]
  },
  {
   "cell_type": "code",
   "execution_count": null,
   "metadata": {},
   "outputs": [],
   "source": []
  }
 ],
 "metadata": {
  "kernelspec": {
   "display_name": "Python 3",
   "language": "python",
   "name": "python3"
  },
  "language_info": {
   "codemirror_mode": {
    "name": "ipython",
    "version": 3
   },
   "file_extension": ".py",
   "mimetype": "text/x-python",
   "name": "python",
   "nbconvert_exporter": "python",
   "pygments_lexer": "ipython3",
   "version": "3.7.3"
  }
 },
 "nbformat": 4,
 "nbformat_minor": 2
}
