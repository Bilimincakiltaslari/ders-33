{
 "cells": [
  {
   "cell_type": "code",
   "execution_count": 26,
   "metadata": {},
   "outputs": [
    {
     "name": "stdout",
     "output_type": "stream",
     "text": [
      " ********************************************************************************\n",
      "                 + = girdiğin iki sayıyı toplarım\n",
      "                 - = girdiğin iki sayıyı çıkarırım\n",
      "                 * = girdiğin iki sayıyı çarparım\n",
      "                 / = girdiğin iki sayıyı bölerim\n",
      "                 ç = programdan çıkış\n",
      "*********************************************************************************\n",
      "birinci sayı 7\n",
      "Hangi işlemi yapacaksın +\n",
      "ikinci sayı 9\n",
      "7 + 9 = 16\n",
      "birinci sayı 25\n",
      "Hangi işlemi yapacaksın -\n",
      "ikinci sayı 17\n",
      "25 - 17 = 8\n",
      "birinci sayı 19\n",
      "Hangi işlemi yapacaksın *\n",
      "ikinci sayı 39\n",
      "19 * 39 = 741\n",
      "birinci sayı 117\n",
      "Hangi işlemi yapacaksın /\n",
      "ikinci sayı 25\n",
      "117 / 25 = 4.68\n",
      "birinci sayı 8\n",
      "Hangi işlemi yapacaksın %\n",
      "ikinci sayı 2\n",
      "yanlış tuşa bastınız \n",
      "8 % 2 = Tanımsız\n",
      "birinci sayı 7\n",
      "Hangi işlemi yapacaksın gfdsfgar\n",
      "ikinci sayı 2\n",
      "yanlış tuşa bastınız \n",
      "7 gfdsfgar 2 = Tanımsız\n",
      "birinci sayı 63\n",
      "Hangi işlemi yapacaksın ç\n",
      " ********************************************************************************\n",
      "                 PROGRAMDAN ÇIKIŞ YAPTINIZ\n",
      "                 \n",
      "*********************************************************************************\n"
     ]
    }
   ],
   "source": [
    "topla = lambda x,y:x+y\n",
    "çıkar = lambda x,y:x-y\n",
    "çarp = lambda x,y:x*y\n",
    "böl = lambda x,y:x/y\n",
    "yanlış = lambda x,y:\"Tanımsız\"\n",
    "print(\"\"\" ********************************************************************************\n",
    "                 + = girdiğin iki sayıyı toplarım\n",
    "                 - = girdiğin iki sayıyı çıkarırım\n",
    "                 * = girdiğin iki sayıyı çarparım\n",
    "                 / = girdiğin iki sayıyı bölerim\n",
    "                 ç = programdan çıkış\n",
    "*********************************************************************************\"\"\")\n",
    "durum=True\n",
    "while durum:  \n",
    "    a=int(input(\"birinci sayı \"))\n",
    "    işlem=input(\"Hangi işlemi yapacaksın \")\n",
    "    if işlem==\"ç\" or işlem==\"Ç\":\n",
    "        durum=False\n",
    "        break\n",
    "    b=int(input(\"ikinci sayı \"))\n",
    "    if işlem==\"+\":\n",
    "        yaz=topla\n",
    "    elif işlem==\"-\":\n",
    "        yaz=çıkar\n",
    "    elif işlem==\"*\":\n",
    "        yaz=çarp\n",
    "    elif işlem==\"/\":\n",
    "        yaz=böl\n",
    "    else:\n",
    "        yaz=yanlış\n",
    "        print(\"yanlış tuşa bastınız \")\n",
    "    print(a,işlem,b,\"=\",yaz(a,b))\n",
    "print(\"\"\" ********************************************************************************\n",
    "                 PROGRAMDAN ÇIKIŞ YAPTINIZ\n",
    "                 \n",
    "*********************************************************************************\"\"\")  \n",
    " "
   ]
  }
 ],
 "metadata": {
  "kernelspec": {
   "display_name": "Python 3",
   "language": "python",
   "name": "python3"
  },
  "language_info": {
   "codemirror_mode": {
    "name": "ipython",
    "version": 3
   },
   "file_extension": ".py",
   "mimetype": "text/x-python",
   "name": "python",
   "nbconvert_exporter": "python",
   "pygments_lexer": "ipython3",
   "version": "3.7.3"
  }
 },
 "nbformat": 4,
 "nbformat_minor": 2
}
